{
  "nbformat": 4,
  "nbformat_minor": 0,
  "metadata": {
    "colab": {
      "name": "pattern-count.ipynb",
      "provenance": []
    },
    "kernelspec": {
      "name": "python3",
      "display_name": "Python 3"
    }
  },
  "cells": [
    {
      "cell_type": "code",
      "metadata": {
        "id": "C9NQxGHeR8lR"
      },
      "source": [
        "  DNA_SEQUENCE = \"TTCGCATGTCGCATGGCTTCGCATGTGTCGCATGTCGCATGGCGCATGAACATTCGCATGAGTCGCATGGTCGCATGTCGCATGATCGCATGCAGTCGCATGGGCTCGCATGTTCGCATGTCGGCTCGCATGTAGACTTCGCATGTCGCATGCTTTCTAGCGTTCGCATGTCGCATGCTGTCGCATGTCGCATGAAATCGCATGAGAGTCGCATGTCGCATGGCCTATCGCATGCTCGCATGTCTGTCGCATGATCGCATGGCGACGAGTCGCATGCTCGCATGTCTTCGCATGCTCGCATGCTCGCATGTCGCATGTAGGTGCCCTTCGCATGTCGCATGTCGCATGTCGCATGCTTCGCATGATCGCATGTCACAGCTCGCATGTCGTTCATCGCATGCAAGAGTCGCATGACGCGGTCGCATGCCTCCACGTTCGCATGGAAGTTCTCGCATGCGTCGCATGCTCGCATGCCCAATGATAAGTCGCATGATTTCGCATGTTCGCATGAACTCGCATGTATCGCATGTCGCATGGGTGTGCTCGCATGCATCGCATGTTCGCATGATCGCATGGGGATGTCGCATGTATACTCGCATGTCAACCTCGCATGCCAAAAATCGCATGTCGCATGTCGCATGGCTCGCATGGTCGCATGACGGATCGCATGTCGCATGAGGTCGGGACACATGCTCGCATGCAATCGCATGATGTCGCATGCAACTCGCATGATCGCATGAGGTCGCATGTCGCATGTCGCATGTGGGGTCGCATGATGGGTTCGCATGGATATCTCGCATGTCGCATGTTTCGCATGCGATGTTCGCATGAAATCGCATGAACTCGCATGCTGTCGCATGGGTCGCATGTCGCATGCCTCATCGCATGGCTCGCATGGTCGCATGGTGCTCGCATGCGTCGCATGGCCTCGCATGAGGCCTCGCATGCTCGCATG\""
      ],
      "execution_count": 85,
      "outputs": []
    },
    {
      "cell_type": "code",
      "metadata": {
        "id": "hlc_Au-lSZjy"
      },
      "source": [
        "PATTERN = \"TCGCATGTC\""
      ],
      "execution_count": 86,
      "outputs": []
    },
    {
      "cell_type": "code",
      "metadata": {
        "id": "nXqydQ8MOjla"
      },
      "source": [
        "def pattern_count(text, pattern):\n",
        "  count = 0\n",
        "  for index in range(0, len(text)):\n",
        "      current_str = text[index: index + len(pattern)]    \n",
        "      if current_str == pattern:\n",
        "        print(count, current_str, pattern)\n",
        "        count = count + 1\n",
        "  print(count)\n"
      ],
      "execution_count": 87,
      "outputs": []
    },
    {
      "cell_type": "code",
      "metadata": {
        "id": "_iVS75vnPNro",
        "outputId": "485a3b8a-c50f-4ac9-dbc1-4a931c46aacd",
        "colab": {
          "base_uri": "https://localhost:8080/",
          "height": 490
        }
      },
      "source": [
        "pattern_count(DNA_SEQUENCE,PATTERN )"
      ],
      "execution_count": 88,
      "outputs": [
        {
          "output_type": "stream",
          "text": [
            "0 TCGCATGTC TCGCATGTC\n",
            "1 TCGCATGTC TCGCATGTC\n",
            "2 TCGCATGTC TCGCATGTC\n",
            "3 TCGCATGTC TCGCATGTC\n",
            "4 TCGCATGTC TCGCATGTC\n",
            "5 TCGCATGTC TCGCATGTC\n",
            "6 TCGCATGTC TCGCATGTC\n",
            "7 TCGCATGTC TCGCATGTC\n",
            "8 TCGCATGTC TCGCATGTC\n",
            "9 TCGCATGTC TCGCATGTC\n",
            "10 TCGCATGTC TCGCATGTC\n",
            "11 TCGCATGTC TCGCATGTC\n",
            "12 TCGCATGTC TCGCATGTC\n",
            "13 TCGCATGTC TCGCATGTC\n",
            "14 TCGCATGTC TCGCATGTC\n",
            "15 TCGCATGTC TCGCATGTC\n",
            "16 TCGCATGTC TCGCATGTC\n",
            "17 TCGCATGTC TCGCATGTC\n",
            "18 TCGCATGTC TCGCATGTC\n",
            "19 TCGCATGTC TCGCATGTC\n",
            "20 TCGCATGTC TCGCATGTC\n",
            "21 TCGCATGTC TCGCATGTC\n",
            "22 TCGCATGTC TCGCATGTC\n",
            "23 TCGCATGTC TCGCATGTC\n",
            "24 TCGCATGTC TCGCATGTC\n",
            "25\n"
          ],
          "name": "stdout"
        }
      ]
    },
    {
      "cell_type": "code",
      "metadata": {
        "id": "lSwyJQLFPzkR"
      },
      "source": [
        ""
      ],
      "execution_count": 51,
      "outputs": []
    }
  ]
}