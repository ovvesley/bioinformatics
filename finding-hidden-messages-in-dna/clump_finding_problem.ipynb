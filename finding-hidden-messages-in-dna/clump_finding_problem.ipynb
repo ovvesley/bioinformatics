{
  "nbformat": 4,
  "nbformat_minor": 0,
  "metadata": {
    "colab": {
      "name": "clump_finding_problem.ipynb",
      "provenance": [],
      "collapsed_sections": []
    },
    "kernelspec": {
      "name": "python3",
      "display_name": "Python 3"
    }
  },
  "cells": [
    {
      "cell_type": "markdown",
      "metadata": {
        "id": "mCwmLUDUpCdg"
      },
      "source": [
        "**Clump Finding Problem:** Find patterns forming clumps in a string.\n",
        "\n",
        "Input: A string Genome, and integers k, L, and t.\n",
        "\n",
        "Output: All distinct k-mers forming (L, t)-clumps in Genome."
      ]
    },
    {
      "cell_type": "code",
      "metadata": {
        "id": "G1uAhC4Xo29J"
      },
      "source": [
        "GENOME_INPUT = \"GTGAGCGCCAACCGTTCCAGAACACGTGTGCCTGATACAGGCGACCGGTGCTGTACGACTATTCCGTAGACCGCTGAGACGGATATTTGATCGGTCATTGTAAAACTGACTCCGTTGGTAGAGTATAGGATTAAGGGGAAATGAGGGGAGATTGGGGTGGTAAGAGGGCACCTATATCAGTAATGGTAAGGCGCCCAGCGTACACGAGAAAGGTTACATCTAAGTACTTGGTCATGGGGTCAGATGCAGTATTAGTCCTCCGACACCTGTGAGAAGAGTGTCGGCTCAAAAACCGCCCGCGGCGTCGAAAGTCGCCCGCCTATTACGCCGCCTATTATAAAATTCGGACTCTCTTTGCCTTTTCATTGTGTCAAGCCGGGAACTACTTTCCCTCAGCCGGCAACTGGTCAACTGGTAGGCAACTGGTACCACCGCTCGCTTGTCTGCGATACTAGATTAGGTGGCCGACGCTACCCCCAACCCCGGATTCTGGTGAGGGTTGTCTGCCTAACTTTAGGCGTAGTAAACATAAGTAAACATACCGTACGAGCGAACTAATCCCGTACATCAGTCCCATCCCCTCAGGGAACGCTGTCCTGCTGCAACTATTATTCGTGACGCTAGCGGGAGATCACGGCTCGTTGTCGTACGTTTCGAGTTTGGACCTAAGTAAAAGAGTGCTCTTTCTAGGTGTACAGATGCACGTACTTATACCATTCATAAGACTTTGTGTCAACATGATACCTGGGACGACTCTATAGTGCCGCGATGATGTCAGATGTCAACAACGTCAACTTACCATGTTAGAGGCATCCCGGGGTCCAACCGCGGTAGGTCTAGAGGAGAGGTCTAGATAGAGGTTTAACCTTACGGCGTCATACCACCGCATTCGGTGCCAGACGCTTCCGGTGCAACCCGTAGTAGCTAGTGGCGTAGAGACGCTATGGTCGTCTAAAAGGCAATAGCTTGGGCGATTTGGGCTCGTCTTCTTTATGGGAGAAGTGGATTGGGTGATATACATATGATGATTAATGGAAGTCCAGTAGCGAGTATGGCCACCGGACGGATTTGACTAGTGTGTGTAGATAGCAATGATGCTGATCCCGAGGGCGGTATTGGAACTAATGGAGTGGACGCGGGATACCGCGTGGAACGCGCGTGGAACGAACGGTACGTACGGATACGGGTTAGGGGAACCTTGAGCCGCCGCTTAGTCCTATGGCGGTTCGTAACACGGACCCTAATCGCAGGGACGGTAATCAGGATCCATAACAACCACGTACCCCGAATTCACTGTAGAAAGGACGAGCAGTAGTAGATGTGAATAGTAATGAGACGATGGGGCGGAGGTTTTTGCGAATGAATTCTAGTGGCGCCCAGGTCGGATTTTCGGTCGGATTGACAGTGCCTTTATGATATGAGAAGGAGAAGTATGAGAAGAAGAGCCCGGTCTTGTAGTCCCCTATAACGGCAATGACATTTAGTTAATCTTTTAGGATCTATCAAGGATTAGGTGACGGTAATTTCACACGTCGCCCGTGGTGAGGTGTTTATGTTGCTAAAAACTTGCTTATTCCATGAGCCAGGATTGATATTAAAAAGGCGAAATATTTATCCCTGTCTCGGAACTATATTAATGTCCCAAGACGTTACGCGCAAGCTATTTTCATCATTACCGATTCGGCAACGCGTCCACGTACACGTGGCCACTAGAGCCCCGCAAATCTGTCTAATCTGTCTAATCTGTCTAATCTGTCTAATCTGTCTAATCTGTCTTTCGTTGTGTTCGTTGTGTTCGTTGTGTTCGTTGTGTTCGTTGTGTTCGTTGTG\"\n",
        "K = 9\n",
        "L = 29 \n",
        "t = 3"
      ],
      "execution_count": 490,
      "outputs": []
    },
    {
      "cell_type": "code",
      "metadata": {
        "id": "nm41tBngrbh2"
      },
      "source": [
        "def pattern_count(text, pattern):\n",
        "  count = 0\n",
        "  for index in range(0, len(text)):\n",
        "      current_str = text[index: index + len(pattern)]\n",
        "      if current_str == pattern:\n",
        "        count = count + 1\n",
        "  return count"
      ],
      "execution_count": 469,
      "outputs": []
    },
    {
      "cell_type": "code",
      "metadata": {
        "id": "6py3E1a2EZjp"
      },
      "source": [
        "def t_times_word(text, k, t):\n",
        "  frequent_pattern = {}\n",
        "  max_count = 0\n",
        "  for index in range(len(text)):\n",
        "    cur_pattern_str = text[index:index+k]\n",
        "    cur_pattern_count = pattern_count(text, cur_pattern_str)\n",
        "    frequent_pattern[cur_pattern_str] = frequent_pattern.get(cur_pattern_str,0) + 1\n",
        "    if frequent_pattern[cur_pattern_str] > max_count:\n",
        "      max_count = frequent_pattern[cur_pattern_str]\n",
        "  t_frequent_word = dict((key,value) for key, value in frequent_pattern.items() if value == t) \n",
        "  return t_frequent_word.keys()\n"
      ],
      "execution_count": 487,
      "outputs": []
    },
    {
      "cell_type": "code",
      "metadata": {
        "id": "z5dC6k-epuCH"
      },
      "source": [
        "def clump_finding_problem(genome, k, l, t):    \n",
        "  index_i = 0\n",
        "  list_kmers = set()\n",
        "  while index_i < len(genome):    \n",
        "    current_gene = genome[index_i: index_i + l] \n",
        "    list_kmers.update(t_times_word(current_gene, k, t))\n",
        "    index_i += 1\n",
        "  return list_kmers\n"
      ],
      "execution_count": 488,
      "outputs": []
    },
    {
      "cell_type": "code",
      "metadata": {
        "id": "sBKqn3fYqRWY",
        "outputId": "d0a59a28-e0c4-4eb9-dec1-832d86edb1f5",
        "colab": {
          "base_uri": "https://localhost:8080/",
          "height": 34
        }
      },
      "source": [
        "result = clump_finding_problem(GENOME_INPUT, K,L,t)\n",
        "print(\" \".join(result))\n"
      ],
      "execution_count": 491,
      "outputs": [
        {
          "output_type": "stream",
          "text": [
            "TCGTTGTGT TTCGTTGTG CGTTGTGTT GTGTTCGTT GTCTAATCT GTTGTGTTC GTTCGTTGT TGTGTTCGT TGTTCGTTG AATCTGTCT CTAATCTGT CTGTCTAAT TAATCTGTC TCTAATCTG TGTCTAATC TTGTGTTCG ATCTGTCTA TCTGTCTAA\n"
          ],
          "name": "stdout"
        }
      ]
    }
  ]
}