{
  "nbformat": 4,
  "nbformat_minor": 0,
  "metadata": {
    "colab": {
      "name": "pattern-count.ipynb",
      "provenance": [],
      "collapsed_sections": []
    },
    "kernelspec": {
      "name": "python3",
      "display_name": "Python 3"
    }
  },
  "cells": [
    {
      "cell_type": "markdown",
      "metadata": {
        "id": "42z01UaFh53h"
      },
      "source": [
        "**1.2 Hidden Messages in the Replication Origin**\n",
        "\n",
        "Implement PatternCount (reproduced below).\n",
        "\n",
        "Input: Strings Text and Pattern.\n",
        "\n",
        "Output: Count(Text, Pattern).\n",
        "```\n",
        "PatternCount(Text, Pattern)\n",
        "  count ← 0\n",
        "  for i ← 0 to |Text| − |Pattern|\n",
        "    if Text(i, |Pattern|) = Pattern\n",
        "      count ← count + 1\n",
        "    return count\n",
        "```\n",
        "---\n",
        "\n",
        "**Sample Input:**\n",
        "```\n",
        "GCGCG\n",
        "\n",
        "GCG\n",
        "```\n",
        "\n",
        "**Sample Output:**\n",
        "```\n",
        "2\n",
        "```\n",
        "\n"
      ]
    },
    {
      "cell_type": "code",
      "metadata": {
        "id": "C9NQxGHeR8lR"
      },
      "source": [
        "DNA_SEQUENCE = \"TTCGCATGTCGCATGGCTTCGCATGTGTCGCATGTCGCATGGCGCATGAACATTCGCATGAGTCGCATGGTCGCATGTCGCATGATCGCATGCAGTCGCATGGGCTCGCATGTTCGCATGTCGGCTCGCATGTAGACTTCGCATGTCGCATGCTTTCTAGCGTTCGCATGTCGCATGCTGTCGCATGTCGCATGAAATCGCATGAGAGTCGCATGTCGCATGGCCTATCGCATGCTCGCATGTCTGTCGCATGATCGCATGGCGACGAGTCGCATGCTCGCATGTCTTCGCATGCTCGCATGCTCGCATGTCGCATGTAGGTGCCCTTCGCATGTCGCATGTCGCATGTCGCATGCTTCGCATGATCGCATGTCACAGCTCGCATGTCGTTCATCGCATGCAAGAGTCGCATGACGCGGTCGCATGCCTCCACGTTCGCATGGAAGTTCTCGCATGCGTCGCATGCTCGCATGCCCAATGATAAGTCGCATGATTTCGCATGTTCGCATGAACTCGCATGTATCGCATGTCGCATGGGTGTGCTCGCATGCATCGCATGTTCGCATGATCGCATGGGGATGTCGCATGTATACTCGCATGTCAACCTCGCATGCCAAAAATCGCATGTCGCATGTCGCATGGCTCGCATGGTCGCATGACGGATCGCATGTCGCATGAGGTCGGGACACATGCTCGCATGCAATCGCATGATGTCGCATGCAACTCGCATGATCGCATGAGGTCGCATGTCGCATGTCGCATGTGGGGTCGCATGATGGGTTCGCATGGATATCTCGCATGTCGCATGTTTCGCATGCGATGTTCGCATGAAATCGCATGAACTCGCATGCTGTCGCATGGGTCGCATGTCGCATGCCTCATCGCATGGCTCGCATGGTCGCATGGTGCTCGCATGCGTCGCATGGCCTCGCATGAGGCCTCGCATGCTCGCATG\""
      ],
      "execution_count": null,
      "outputs": []
    },
    {
      "cell_type": "code",
      "metadata": {
        "id": "hlc_Au-lSZjy"
      },
      "source": [
        "PATTERN = \"TCGCATGTC\""
      ],
      "execution_count": null,
      "outputs": []
    },
    {
      "cell_type": "code",
      "metadata": {
        "id": "nXqydQ8MOjla"
      },
      "source": [
        "def pattern_count(text, pattern):\n",
        "  count = 0\n",
        "  for index in range(0, len(text)):\n",
        "      current_str = text[index: index + len(pattern)]\n",
        "      if current_str == pattern:\n",
        "        count = count + 1\n",
        "  print(count)"
      ],
      "execution_count": null,
      "outputs": []
    },
    {
      "cell_type": "code",
      "metadata": {
        "id": "_iVS75vnPNro",
        "outputId": "1c9432ad-83bb-43dd-f2de-6fdc660ae697",
        "colab": {
          "base_uri": "https://localhost:8080/",
          "height": 34
        }
      },
      "source": [
        "pattern_count(DNA_SEQUENCE,PATTERN)"
      ],
      "execution_count": null,
      "outputs": [
        {
          "output_type": "stream",
          "text": [
            "25\n"
          ],
          "name": "stdout"
        }
      ]
    },
    {
      "cell_type": "code",
      "metadata": {
        "id": "IwezpyaacqVw"
      },
      "source": [
        ""
      ],
      "execution_count": null,
      "outputs": []
    }
  ]
}