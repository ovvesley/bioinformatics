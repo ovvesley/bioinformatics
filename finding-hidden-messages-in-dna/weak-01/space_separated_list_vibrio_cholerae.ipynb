{
  "nbformat": 4,
  "nbformat_minor": 0,
  "metadata": {
    "colab": {
      "name": " space_separated_list_vibrio_cholerae.ipynb",
      "provenance": []
    },
    "kernelspec": {
      "name": "python3",
      "display_name": "Python 3"
    }
  },
  "cells": [
    {
      "cell_type": "markdown",
      "metadata": {
        "id": "DJRQAnmylup9"
      },
      "source": [
        "Exercise Break: \n",
        "\n",
        "Return a space-separated list of starting positions (in increasing order) where CTTGATCAT appears as a substring in the Vibrio cholerae genome.\n",
        "\n",
        "\n"
      ]
    },
    {
      "cell_type": "code",
      "metadata": {
        "id": "PqUs9qtUjBcT"
      },
      "source": [
        "import requests"
      ],
      "execution_count": 11,
      "outputs": []
    },
    {
      "cell_type": "code",
      "metadata": {
        "id": "lRHXGN81lJew"
      },
      "source": [
        "def find_initial_position_pattern(genome, pattern):\n",
        "  for index in range(0, len(genome)):\n",
        "      current_str = genome[index: index + len(pattern)]\n",
        "      if current_str == pattern:\n",
        "        print(index, end=\" \") "
      ],
      "execution_count": 12,
      "outputs": []
    },
    {
      "cell_type": "code",
      "metadata": {
        "id": "RFgoFWuqjsf4"
      },
      "source": [
        "def get_vibrio_cholerae_genome():  \n",
        "  url_vibrio_cholerae = \"https://raw.githubusercontent.com/ovvesley/bioinformatics/master/genomes/Vibrio_cholerae.txt\"  \n",
        "  genome_vibrio_cholerae = \"\" \n",
        "  try:\n",
        "      r = requests.get(url_vibrio_cholerae)\n",
        "      genome_vibrio_cholerae = r.text\n",
        "      return genome_vibrio_cholerae\n",
        "  except requests.exceptions.HTTPError as e:\n",
        "      print (e.response.text)\n",
        "      return \"\""
      ],
      "execution_count": 13,
      "outputs": []
    },
    {
      "cell_type": "code",
      "metadata": {
        "id": "5gi5y_6zkGIf",
        "outputId": "2ab26f8e-399f-4f9b-ff1b-cd0dd23be0ec",
        "colab": {
          "base_uri": "https://localhost:8080/",
          "height": 34
        }
      },
      "source": [
        "PATTERN = \"CTTGATCAT\" \n",
        "genome_vibrio_cholerae = get_vibrio_cholerae_genome()\n",
        "find_initial_position_pattern(genome_vibrio_cholerae, PATTERN)"
      ],
      "execution_count": 14,
      "outputs": [
        {
          "output_type": "stream",
          "text": [
            "60039 98409 129189 152283 152354 152411 163207 197028 200160 357976 376771 392723 532935 600085 622755 1065555 "
          ],
          "name": "stdout"
        }
      ]
    },
    {
      "cell_type": "code",
      "metadata": {
        "id": "siFF65eckfHH"
      },
      "source": [
        ""
      ],
      "execution_count": null,
      "outputs": []
    }
  ]
}